{
 "cells": [
  {
   "cell_type": "markdown",
   "metadata": {
    "id": "EhshNX8EsdN7"
   },
   "source": [
    "# **Colab User Manual Tiff Image Processing Annotation Training And Prediction**\n",
    "\n",
    "This manual guides the user through the complete process from tiff image conversion annotation model training to final prediction and exporting results on google colab please follow the steps in order"
   ]
  },
  {
   "cell_type": "markdown",
   "metadata": {
    "id": "TqTHHefNsJJX"
   },
   "source": [
    "# **1. Basic Environment Configuration**"
   ]
  },
  {
   "cell_type": "markdown",
   "metadata": {
    "id": "W-6Q-_Vo2CfQ"
   },
   "source": [
    "### **1.1 Download Code Tools And Examples**\n",
    "1. run the following colab code to download the necessary tools and sample data\n",
    "   - includes tiff processing tools\n",
    "   - example of tiff images\n",
    "   - example of annotation files\n",
    "   - pre-trained model weights"
   ]
  },
  {
   "cell_type": "code",
   "execution_count": 1,
   "metadata": {
    "colab": {
     "base_uri": "https://localhost:8080/"
    },
    "id": "cWF-OWkqsQSy",
    "outputId": "42e06fca-15e5-4324-8f00-a68befaa8b9b",
    "scrolled": true
   },
   "outputs": [
    {
     "name": "stdout",
     "output_type": "stream",
     "text": [
      "Requirement already satisfied: gdown in /home/dhfmd/miniconda3/lib/python3.12/site-packages (5.2.0)\n",
      "Requirement already satisfied: beautifulsoup4 in /home/dhfmd/miniconda3/lib/python3.12/site-packages (from gdown) (4.13.4)\n",
      "Requirement already satisfied: filelock in /home/dhfmd/miniconda3/lib/python3.12/site-packages (from gdown) (3.13.1)\n",
      "Requirement already satisfied: requests[socks] in /home/dhfmd/miniconda3/lib/python3.12/site-packages (from gdown) (2.32.3)\n",
      "Requirement already satisfied: tqdm in /home/dhfmd/miniconda3/lib/python3.12/site-packages (from gdown) (4.67.1)\n",
      "Requirement already satisfied: soupsieve>1.2 in /home/dhfmd/miniconda3/lib/python3.12/site-packages (from beautifulsoup4->gdown) (2.7)\n",
      "Requirement already satisfied: typing-extensions>=4.0.0 in /home/dhfmd/miniconda3/lib/python3.12/site-packages (from beautifulsoup4->gdown) (4.12.2)\n",
      "Requirement already satisfied: charset-normalizer<4,>=2 in /home/dhfmd/miniconda3/lib/python3.12/site-packages (from requests[socks]->gdown) (3.3.2)\n",
      "Requirement already satisfied: idna<4,>=2.5 in /home/dhfmd/miniconda3/lib/python3.12/site-packages (from requests[socks]->gdown) (3.7)\n",
      "Requirement already satisfied: urllib3<3,>=1.21.1 in /home/dhfmd/miniconda3/lib/python3.12/site-packages (from requests[socks]->gdown) (2.3.0)\n",
      "Requirement already satisfied: certifi>=2017.4.17 in /home/dhfmd/miniconda3/lib/python3.12/site-packages (from requests[socks]->gdown) (2025.4.26)\n",
      "Requirement already satisfied: PySocks!=1.5.7,>=1.5.6 in /home/dhfmd/miniconda3/lib/python3.12/site-packages (from requests[socks]->gdown) (1.7.1)\n",
      "Requirement already satisfied: rasterio in /home/dhfmd/miniconda3/lib/python3.12/site-packages (1.4.3)\n",
      "Requirement already satisfied: affine in /home/dhfmd/miniconda3/lib/python3.12/site-packages (from rasterio) (2.4.0)\n",
      "Requirement already satisfied: attrs in /home/dhfmd/miniconda3/lib/python3.12/site-packages (from rasterio) (25.3.0)\n",
      "Requirement already satisfied: certifi in /home/dhfmd/miniconda3/lib/python3.12/site-packages (from rasterio) (2025.4.26)\n",
      "Requirement already satisfied: click>=4.0 in /home/dhfmd/miniconda3/lib/python3.12/site-packages (from rasterio) (8.1.8)\n",
      "Requirement already satisfied: cligj>=0.5 in /home/dhfmd/miniconda3/lib/python3.12/site-packages (from rasterio) (0.7.2)\n",
      "Requirement already satisfied: numpy>=1.24 in /home/dhfmd/miniconda3/lib/python3.12/site-packages (from rasterio) (1.26.4)\n",
      "Requirement already satisfied: click-plugins in /home/dhfmd/miniconda3/lib/python3.12/site-packages (from rasterio) (1.1.1)\n",
      "Requirement already satisfied: pyparsing in /home/dhfmd/miniconda3/lib/python3.12/site-packages (from rasterio) (3.2.3)\n",
      "Requirement already satisfied: ultralytics in /home/dhfmd/miniconda3/lib/python3.12/site-packages (8.3.146)\n",
      "Requirement already satisfied: numpy>=1.23.0 in /home/dhfmd/miniconda3/lib/python3.12/site-packages (from ultralytics) (1.26.4)\n",
      "Requirement already satisfied: matplotlib>=3.3.0 in /home/dhfmd/miniconda3/lib/python3.12/site-packages (from ultralytics) (3.10.1)\n",
      "Requirement already satisfied: opencv-python>=4.6.0 in /home/dhfmd/miniconda3/lib/python3.12/site-packages (from ultralytics) (4.10.0.84)\n",
      "Requirement already satisfied: pillow>=7.1.2 in /home/dhfmd/miniconda3/lib/python3.12/site-packages (from ultralytics) (11.1.0)\n",
      "Requirement already satisfied: pyyaml>=5.3.1 in /home/dhfmd/miniconda3/lib/python3.12/site-packages (from ultralytics) (6.0.2)\n",
      "Requirement already satisfied: requests>=2.23.0 in /home/dhfmd/miniconda3/lib/python3.12/site-packages (from ultralytics) (2.32.3)\n",
      "Requirement already satisfied: scipy>=1.4.1 in /home/dhfmd/miniconda3/lib/python3.12/site-packages (from ultralytics) (1.15.2)\n",
      "Requirement already satisfied: torch>=1.8.0 in /home/dhfmd/miniconda3/lib/python3.12/site-packages (from ultralytics) (2.7.0)\n",
      "Requirement already satisfied: torchvision>=0.9.0 in /home/dhfmd/miniconda3/lib/python3.12/site-packages (from ultralytics) (0.22.0)\n",
      "Requirement already satisfied: tqdm>=4.64.0 in /home/dhfmd/miniconda3/lib/python3.12/site-packages (from ultralytics) (4.67.1)\n",
      "Requirement already satisfied: psutil in /home/dhfmd/miniconda3/lib/python3.12/site-packages (from ultralytics) (7.0.0)\n",
      "Requirement already satisfied: py-cpuinfo in /home/dhfmd/miniconda3/lib/python3.12/site-packages (from ultralytics) (9.0.0)\n",
      "Requirement already satisfied: pandas>=1.1.4 in /home/dhfmd/miniconda3/lib/python3.12/site-packages (from ultralytics) (2.2.3)\n",
      "Requirement already satisfied: ultralytics-thop>=2.0.0 in /home/dhfmd/miniconda3/lib/python3.12/site-packages (from ultralytics) (2.0.14)\n",
      "Requirement already satisfied: contourpy>=1.0.1 in /home/dhfmd/miniconda3/lib/python3.12/site-packages (from matplotlib>=3.3.0->ultralytics) (1.3.1)\n",
      "Requirement already satisfied: cycler>=0.10 in /home/dhfmd/miniconda3/lib/python3.12/site-packages (from matplotlib>=3.3.0->ultralytics) (0.12.1)\n",
      "Requirement already satisfied: fonttools>=4.22.0 in /home/dhfmd/miniconda3/lib/python3.12/site-packages (from matplotlib>=3.3.0->ultralytics) (4.56.0)\n",
      "Requirement already satisfied: kiwisolver>=1.3.1 in /home/dhfmd/miniconda3/lib/python3.12/site-packages (from matplotlib>=3.3.0->ultralytics) (1.4.8)\n",
      "Requirement already satisfied: packaging>=20.0 in /home/dhfmd/miniconda3/lib/python3.12/site-packages (from matplotlib>=3.3.0->ultralytics) (24.2)\n",
      "Requirement already satisfied: pyparsing>=2.3.1 in /home/dhfmd/miniconda3/lib/python3.12/site-packages (from matplotlib>=3.3.0->ultralytics) (3.2.3)\n",
      "Requirement already satisfied: python-dateutil>=2.7 in /home/dhfmd/miniconda3/lib/python3.12/site-packages (from matplotlib>=3.3.0->ultralytics) (2.9.0.post0)\n",
      "Requirement already satisfied: pytz>=2020.1 in /home/dhfmd/miniconda3/lib/python3.12/site-packages (from pandas>=1.1.4->ultralytics) (2025.2)\n",
      "Requirement already satisfied: tzdata>=2022.7 in /home/dhfmd/miniconda3/lib/python3.12/site-packages (from pandas>=1.1.4->ultralytics) (2025.2)\n",
      "Requirement already satisfied: charset-normalizer<4,>=2 in /home/dhfmd/miniconda3/lib/python3.12/site-packages (from requests>=2.23.0->ultralytics) (3.3.2)\n",
      "Requirement already satisfied: idna<4,>=2.5 in /home/dhfmd/miniconda3/lib/python3.12/site-packages (from requests>=2.23.0->ultralytics) (3.7)\n",
      "Requirement already satisfied: urllib3<3,>=1.21.1 in /home/dhfmd/miniconda3/lib/python3.12/site-packages (from requests>=2.23.0->ultralytics) (2.3.0)\n",
      "Requirement already satisfied: certifi>=2017.4.17 in /home/dhfmd/miniconda3/lib/python3.12/site-packages (from requests>=2.23.0->ultralytics) (2025.4.26)\n",
      "Requirement already satisfied: filelock in /home/dhfmd/miniconda3/lib/python3.12/site-packages (from torch>=1.8.0->ultralytics) (3.13.1)\n",
      "Requirement already satisfied: typing-extensions>=4.10.0 in /home/dhfmd/miniconda3/lib/python3.12/site-packages (from torch>=1.8.0->ultralytics) (4.12.2)\n",
      "Requirement already satisfied: setuptools in /home/dhfmd/miniconda3/lib/python3.12/site-packages (from torch>=1.8.0->ultralytics) (75.8.0)\n",
      "Requirement already satisfied: sympy>=1.13.3 in /home/dhfmd/miniconda3/lib/python3.12/site-packages (from torch>=1.8.0->ultralytics) (1.14.0)\n",
      "Requirement already satisfied: networkx in /home/dhfmd/miniconda3/lib/python3.12/site-packages (from torch>=1.8.0->ultralytics) (3.4.2)\n",
      "Requirement already satisfied: jinja2 in /home/dhfmd/miniconda3/lib/python3.12/site-packages (from torch>=1.8.0->ultralytics) (3.1.6)\n",
      "Requirement already satisfied: fsspec in /home/dhfmd/miniconda3/lib/python3.12/site-packages (from torch>=1.8.0->ultralytics) (2025.3.0)\n",
      "Requirement already satisfied: nvidia-cuda-nvrtc-cu12==12.6.77 in /home/dhfmd/miniconda3/lib/python3.12/site-packages (from torch>=1.8.0->ultralytics) (12.6.77)\n",
      "Requirement already satisfied: nvidia-cuda-runtime-cu12==12.6.77 in /home/dhfmd/miniconda3/lib/python3.12/site-packages (from torch>=1.8.0->ultralytics) (12.6.77)\n",
      "Requirement already satisfied: nvidia-cuda-cupti-cu12==12.6.80 in /home/dhfmd/miniconda3/lib/python3.12/site-packages (from torch>=1.8.0->ultralytics) (12.6.80)\n",
      "Requirement already satisfied: nvidia-cudnn-cu12==9.5.1.17 in /home/dhfmd/miniconda3/lib/python3.12/site-packages (from torch>=1.8.0->ultralytics) (9.5.1.17)\n",
      "Requirement already satisfied: nvidia-cublas-cu12==12.6.4.1 in /home/dhfmd/miniconda3/lib/python3.12/site-packages (from torch>=1.8.0->ultralytics) (12.6.4.1)\n",
      "Requirement already satisfied: nvidia-cufft-cu12==11.3.0.4 in /home/dhfmd/miniconda3/lib/python3.12/site-packages (from torch>=1.8.0->ultralytics) (11.3.0.4)\n",
      "Requirement already satisfied: nvidia-curand-cu12==10.3.7.77 in /home/dhfmd/miniconda3/lib/python3.12/site-packages (from torch>=1.8.0->ultralytics) (10.3.7.77)\n",
      "Requirement already satisfied: nvidia-cusolver-cu12==11.7.1.2 in /home/dhfmd/miniconda3/lib/python3.12/site-packages (from torch>=1.8.0->ultralytics) (11.7.1.2)\n",
      "Requirement already satisfied: nvidia-cusparse-cu12==12.5.4.2 in /home/dhfmd/miniconda3/lib/python3.12/site-packages (from torch>=1.8.0->ultralytics) (12.5.4.2)\n",
      "Requirement already satisfied: nvidia-cusparselt-cu12==0.6.3 in /home/dhfmd/miniconda3/lib/python3.12/site-packages (from torch>=1.8.0->ultralytics) (0.6.3)\n",
      "Requirement already satisfied: nvidia-nccl-cu12==2.26.2 in /home/dhfmd/miniconda3/lib/python3.12/site-packages (from torch>=1.8.0->ultralytics) (2.26.2)\n",
      "Requirement already satisfied: nvidia-nvtx-cu12==12.6.77 in /home/dhfmd/miniconda3/lib/python3.12/site-packages (from torch>=1.8.0->ultralytics) (12.6.77)\n",
      "Requirement already satisfied: nvidia-nvjitlink-cu12==12.6.85 in /home/dhfmd/miniconda3/lib/python3.12/site-packages (from torch>=1.8.0->ultralytics) (12.6.85)\n",
      "Requirement already satisfied: nvidia-cufile-cu12==1.11.1.6 in /home/dhfmd/miniconda3/lib/python3.12/site-packages (from torch>=1.8.0->ultralytics) (1.11.1.6)\n",
      "Requirement already satisfied: triton==3.3.0 in /home/dhfmd/miniconda3/lib/python3.12/site-packages (from torch>=1.8.0->ultralytics) (3.3.0)\n",
      "Requirement already satisfied: six>=1.5 in /home/dhfmd/miniconda3/lib/python3.12/site-packages (from python-dateutil>=2.7->matplotlib>=3.3.0->ultralytics) (1.17.0)\n",
      "Requirement already satisfied: mpmath<1.4,>=1.1.0 in /home/dhfmd/miniconda3/lib/python3.12/site-packages (from sympy>=1.13.3->torch>=1.8.0->ultralytics) (1.3.0)\n",
      "Requirement already satisfied: MarkupSafe>=2.0 in /home/dhfmd/miniconda3/lib/python3.12/site-packages (from jinja2->torch>=1.8.0->ultralytics) (3.0.2)\n",
      "\u001b[1;31mE: \u001b[0mCould not open lock file /var/lib/dpkg/lock-frontend - open (13: Permission denied)\u001b[0m\n",
      "\u001b[1;31mE: \u001b[0mUnable to acquire the dpkg frontend lock (/var/lib/dpkg/lock-frontend), are you root?\u001b[0m\n"
     ]
    }
   ],
   "source": [
    "!pip install gdown\n",
    "!pip install rasterio\n",
    "!pip install ultralytics\n",
    "!apt install tree"
   ]
  },
  {
   "cell_type": "code",
   "execution_count": 2,
   "metadata": {
    "colab": {
     "base_uri": "https://localhost:8080/"
    },
    "id": "m61Ks1lnsTdo",
    "outputId": "45478348-259d-4035-b454-2dceda2d8720",
    "scrolled": true
   },
   "outputs": [
    {
     "name": "stdout",
     "output_type": "stream",
     "text": [
      "Downloading...\n",
      "From: https://drive.google.com/uc?id=1BwiXm1N2c9Hv2hKdbxc9eg5DzAaP_X1B\n",
      "To: /home/dhfmd/Dinglun/stand_count/colab_pipline.zip\n",
      "100%|██████████████████████████████████████| 25.3M/25.3M [00:00<00:00, 82.8MB/s]\n",
      "Archive:  colab_pipline.zip\n",
      "error:  cannot delete old ./data/data.yaml\n",
      "        Permission denied\n",
      "error:  cannot delete old ./data/data_test.yaml\n",
      "        Permission denied\n",
      "error:  cannot delete old ./data/test/images/test_10001_png.rf.82cd075f024ac08c25e560fe89db2e34.jpg\n",
      "        Permission denied\n",
      "error:  cannot delete old ./data/test/images/test_10021_png.rf.4e07b30a666c9f31838e96d0925f4596.jpg\n",
      "        Permission denied\n",
      "error:  cannot delete old ./data/test/images/test_10041_png.rf.830eda52d824e0b084b269ff6b419799.jpg\n",
      "        Permission denied\n",
      "error:  cannot delete old ./data/test/images/test_10061_png.rf.7b7dbfe9143fb63162d910d7ee5f4d34.jpg\n",
      "        Permission denied\n",
      "error:  cannot delete old ./data/test/images/test_101_png.rf.6c6cffb392ec40e0a408e42ee80a4bde.jpg\n",
      "        Permission denied\n",
      "error:  cannot delete old ./data/test/images/test_1_png.rf.c7d85fde6d0f922b7fac1d4a8b3c8d7e.jpg\n",
      "        Permission denied\n",
      "error:  cannot delete old ./data/test/images/test_21_png.rf.6eb07f090dd8bde8f8788b53208b3fb3.jpg\n",
      "        Permission denied\n",
      "error:  cannot delete old ./data/test/images/test_242_png.rf.dbd0102edea425f247b965b994c0f171.jpg\n",
      "        Permission denied\n",
      "error:  cannot delete old ./data/test/images/test_262_png.rf.e06326bb398ab58bb362aa3b1cf451f8.jpg\n",
      "        Permission denied\n",
      "error:  cannot delete old ./data/test/images/test_282_png.rf.a2790d5d27ef79e1a481886203500126.jpg\n",
      "        Permission denied\n",
      "error:  cannot delete old ./data/test/images/test_302_png.rf.b7bbcda67b157d94d59d6203dc252fc7.jpg\n",
      "        Permission denied\n",
      "error:  cannot delete old ./data/test/images/test_31600_png.rf.f64ec0d3337fbf7a812b55e6e5ae15bb.jpg\n",
      "        Permission denied\n",
      "error:  cannot delete old ./data/test/images/test_31800_png.rf.0c2abf2b0fab73168982dd2e7bbd92d9.jpg\n",
      "        Permission denied\n",
      "error:  cannot delete old ./data/test/images/test_32004_png.rf.6b171558561b9fdee17587eaaf15add6.jpg\n",
      "        Permission denied\n",
      "error:  cannot delete old ./data/test/images/test_32024_png.rf.320da16846c97be1f7322bb59a1941a5.jpg\n",
      "        Permission denied\n",
      "error:  cannot delete old ./data/test/images/test_32044_png.rf.f7b9b8200e30af60c025f2c3297b2eaf.jpg\n",
      "        Permission denied\n",
      "error:  cannot delete old ./data/test/images/test_32064_png.rf.a3647fad3876f1dfc34e5b52258923dc.jpg\n",
      "        Permission denied\n",
      "error:  cannot delete old ./data/test/images/test_41_png.rf.e1d685a224cc0fdb6be873a48c31bbb5.jpg\n",
      "        Permission denied\n",
      "error:  cannot delete old ./data/test/images/test_61_png.rf.c15964581e1d907fb293a26428847dec.jpg\n",
      "        Permission denied\n",
      "error:  cannot delete old ./data/test/images/test_81_png.rf.9cb0b4afebfaf290ecb992e0f7afadf2.jpg\n",
      "        Permission denied\n",
      "error:  cannot delete old ./data/test/labels/test_10001_png.rf.82cd075f024ac08c25e560fe89db2e34.txt\n",
      "        Permission denied\n",
      "error:  cannot delete old ./data/test/labels/test_10021_png.rf.4e07b30a666c9f31838e96d0925f4596.txt\n",
      "        Permission denied\n",
      "error:  cannot delete old ./data/test/labels/test_10041_png.rf.830eda52d824e0b084b269ff6b419799.txt\n",
      "        Permission denied\n",
      "error:  cannot delete old ./data/test/labels/test_10061_png.rf.7b7dbfe9143fb63162d910d7ee5f4d34.txt\n",
      "        Permission denied\n",
      "error:  cannot delete old ./data/test/labels/test_101_png.rf.6c6cffb392ec40e0a408e42ee80a4bde.txt\n",
      "        Permission denied\n",
      "error:  cannot delete old ./data/test/labels/test_1_png.rf.c7d85fde6d0f922b7fac1d4a8b3c8d7e.txt\n",
      "        Permission denied\n",
      "error:  cannot delete old ./data/test/labels/test_21_png.rf.6eb07f090dd8bde8f8788b53208b3fb3.txt\n",
      "        Permission denied\n",
      "error:  cannot delete old ./data/test/labels/test_242_png.rf.dbd0102edea425f247b965b994c0f171.txt\n",
      "        Permission denied\n",
      "error:  cannot delete old ./data/test/labels/test_262_png.rf.e06326bb398ab58bb362aa3b1cf451f8.txt\n",
      "        Permission denied\n",
      "error:  cannot delete old ./data/test/labels/test_282_png.rf.a2790d5d27ef79e1a481886203500126.txt\n",
      "        Permission denied\n",
      "error:  cannot delete old ./data/test/labels/test_302_png.rf.b7bbcda67b157d94d59d6203dc252fc7.txt\n",
      "        Permission denied\n",
      "error:  cannot delete old ./data/test/labels/test_31600_png.rf.f64ec0d3337fbf7a812b55e6e5ae15bb.txt\n",
      "        Permission denied\n",
      "error:  cannot delete old ./data/test/labels/test_31800_png.rf.0c2abf2b0fab73168982dd2e7bbd92d9.txt\n",
      "        Permission denied\n",
      "error:  cannot delete old ./data/test/labels/test_32004_png.rf.6b171558561b9fdee17587eaaf15add6.txt\n",
      "        Permission denied\n",
      "error:  cannot delete old ./data/test/labels/test_32024_png.rf.320da16846c97be1f7322bb59a1941a5.txt\n",
      "        Permission denied\n",
      "error:  cannot delete old ./data/test/labels/test_32044_png.rf.f7b9b8200e30af60c025f2c3297b2eaf.txt\n",
      "        Permission denied\n",
      "error:  cannot delete old ./data/test/labels/test_32064_png.rf.a3647fad3876f1dfc34e5b52258923dc.txt\n",
      "        Permission denied\n",
      "error:  cannot delete old ./data/test/labels/test_41_png.rf.e1d685a224cc0fdb6be873a48c31bbb5.txt\n",
      "        Permission denied\n",
      "error:  cannot delete old ./data/test/labels/test_61_png.rf.c15964581e1d907fb293a26428847dec.txt\n",
      "        Permission denied\n",
      "error:  cannot delete old ./data/test/labels/test_81_png.rf.9cb0b4afebfaf290ecb992e0f7afadf2.txt\n",
      "        Permission denied\n",
      "error:  cannot delete old ./data/train/images/10254_Clip_png.rf.9c686cbbfe97c1a4f1a7b1bd475b9c8a.jpg\n",
      "        Permission denied\n",
      "error:  cannot delete old ./data/train/images/11437_Clip_png.rf.d5ade7fdd3b1041c557b6447390a37a2.jpg\n",
      "        Permission denied\n",
      "error:  cannot delete old ./data/train/images/11534_Clip_png.rf.e1e42883163895f1a43a4e9ac6b1d6e9.jpg\n",
      "        Permission denied\n",
      "error:  cannot delete old ./data/train/images/11653_Clip_png.rf.d414c6eff6893e43861885103ee6fa35.jpg\n",
      "        Permission denied\n",
      "error:  cannot delete old ./data/train/images/11698_Clip_png.rf.c860bc09583f09b3a24f7d1a482a22e6.jpg\n",
      "        Permission denied\n",
      "error:  cannot delete old ./data/train/images/11929_Clip_png.rf.29139fae73e5f02c4ba4b3fd46a550b3.jpg\n",
      "        Permission denied\n",
      "error:  cannot delete old ./data/train/images/12187_Clip_png.rf.72cf8870c74c5fd0208705c0319990c3.jpg\n",
      "        Permission denied\n",
      "error:  cannot delete old ./data/train/images/1258_Clip_png.rf.7e877ac216dba1d78f71e74db22734d3.jpg\n",
      "        Permission denied\n",
      "error:  cannot delete old ./data/train/images/13054_Clip_png.rf.3ac12258a84a96db25aa9548588c2d59.jpg\n",
      "        Permission denied\n",
      "error:  cannot delete old ./data/train/images/13326_Clip_png.rf.278e0718762befb793b0359c75694e75.jpg\n",
      "        Permission denied\n",
      "error:  cannot delete old ./data/train/images/13460_Clip_png.rf.c82662ec03d9430c4935bbd4bb886c68.jpg\n",
      "        Permission denied\n",
      "error:  cannot delete old ./data/train/images/13594_Clip_png.rf.9eef0da221fbdfad9cef00180ec760a9.jpg\n",
      "        Permission denied\n",
      "error:  cannot delete old ./data/train/images/13617_Clip_png.rf.141bae0b5179310e12420de419c6a4d3.jpg\n",
      "        Permission denied\n",
      "error:  cannot delete old ./data/train/images/13985_Clip_png.rf.f3eec4bcbb38cc45259941cb4a25c782.jpg\n",
      "        Permission denied\n",
      "error:  cannot delete old ./data/train/images/14030_Clip_png.rf.59f511a694190cd3e670b7b3ced8ecf7.jpg\n",
      "        Permission denied\n",
      "error:  cannot delete old ./data/train/images/14050_Clip_png.rf.e431e561d76660786ec46922c688e472.jpg\n",
      "        Permission denied\n",
      "error:  cannot delete old ./data/train/images/14398_Clip_png.rf.14f9b18e2c65d3133fddbc6f56ba212a.jpg\n",
      "        Permission denied\n",
      "error:  cannot delete old ./data/train/images/14481_Clip_png.rf.ad305f6d04c0c5d7f0801d9de59c4a2d.jpg\n",
      "        Permission denied\n",
      "error:  cannot delete old ./data/train/images/14488_Clip_png.rf.a374ead4cd23582145e3659a7836e100.jpg\n",
      "        Permission denied\n",
      "error:  cannot delete old ./data/train/images/14748_Clip_png.rf.7cb74b808ee1bbf322ffd52fd6401388.jpg\n",
      "        Permission denied\n",
      "error:  cannot delete old ./data/train/images/14871_Clip_png.rf.dd8e0103f8cd6f2a9eb682f2dc57c372.jpg\n",
      "        Permission denied\n",
      "error:  cannot delete old ./data/train/images/1487_Clip_png.rf.c402e4f5f1a128e5c364387fa90835e4.jpg\n",
      "        Permission denied\n",
      "error:  cannot delete old ./data/train/images/15051_Clip_png.rf.d3388091197f84fb582169fc6728ecf8.jpg\n",
      "        Permission denied\n",
      "error:  cannot delete old ./data/train/images/15541_Clip_png.rf.c294ef30bf33db9f5da57429bba192e9.jpg\n",
      "        Permission denied\n",
      "error:  cannot delete old ./data/train/images/15851_Clip_png.rf.9a8214263706a3c8029a9950ab1213a6.jpg\n",
      "        Permission denied\n",
      "error:  cannot delete old ./data/train/images/16041_Clip_png.rf.183772fa8ebee0ed3c83f4070fe1dcc7.jpg\n",
      "        Permission denied\n",
      "error:  cannot delete old ./data/train/images/16110_Clip_png.rf.dfcd0302baefd17a22740f8f07b4e7fc.jpg\n",
      "        Permission denied\n",
      "error:  cannot delete old ./data/train/images/16167_Clip_png.rf.9db926aab46b49b354f06a46d3c6d501.jpg\n",
      "        Permission denied\n",
      "error:  cannot delete old ./data/train/images/16263_Clip_png.rf.85ad519d86ff29ae2c6c414b3c76da43.jpg\n",
      "        Permission denied\n",
      "error:  cannot delete old ./data/train/images/16699_Clip_png.rf.9e2ece16cb84777cf2b2bc3466d6e470.jpg\n",
      "        Permission denied\n",
      "error:  cannot delete old ./data/train/images/16816_Clip_png.rf.71d2c290b42d39504b6787a1752ace85.jpg\n",
      "        Permission denied\n",
      "error:  cannot delete old ./data/train/images/17102_Clip_png.rf.ad1798809cd5b4d490086c4dae32ba37.jpg\n",
      "        Permission denied\n",
      "error:  cannot delete old ./data/train/images/17282_Clip_png.rf.149aaa4f8581ef40ffbc882916bfae37.jpg\n",
      "        Permission denied\n",
      "error:  cannot delete old ./data/train/images/17362_Clip_png.rf.76358619341471c9449a124c215636d2.jpg\n",
      "        Permission denied\n",
      "error:  cannot delete old ./data/train/images/17392_Clip_png.rf.caffb6d18318848d4b49ee0f3da42f8c.jpg\n",
      "        Permission denied\n",
      "error:  cannot delete old ./data/train/images/17622_Clip_png.rf.140fdc19c4722b716995e255229b42cb.jpg\n",
      "        Permission denied\n",
      "error:  cannot delete old ./data/train/images/18008_Clip_png.rf.e5729910cfbc5f1c9d9a485556aa6f71.jpg\n",
      "        Permission denied\n",
      "error:  cannot delete old ./data/train/images/18102_Clip_png.rf.9528534884951aa86afeb6c20e84930c.jpg\n",
      "        Permission denied\n",
      "error:  cannot delete old ./data/train/images/18238_Clip_png.rf.fc1abc28dd4f76c7446624f64b47c103.jpg\n",
      "        Permission denied\n",
      "error:  cannot delete old ./data/train/images/18627_Clip_png.rf.45f621d2005388872f539add05e3628c.jpg\n",
      "        Permission denied\n",
      "error:  cannot delete old ./data/train/images/18689_Clip_png.rf.7fd9819b894ee31d4b826c8f7fbd1f38.jpg\n",
      "        Permission denied\n",
      "error:  cannot delete old ./data/train/images/18809_Clip_png.rf.4454ec11620b31a089bcd4ad8ed921e5.jpg\n",
      "        Permission denied\n",
      "error:  cannot delete old ./data/train/images/190_Clip_png.rf.3e355cd5e6c8a9ef1dfd133de35b6636.jpg\n",
      "        Permission denied\n",
      "error:  cannot delete old ./data/train/images/19396_Clip_png.rf.5d1b7a4af266f1732825ef4cb26a33e1.jpg\n",
      "        Permission denied\n",
      "error:  cannot delete old ./data/train/images/19740_Clip_png.rf.02f1363c19144c3e70382bf489202b89.jpg\n",
      "        Permission denied\n",
      "error:  cannot delete old ./data/train/images/19798_Clip_png.rf.713ed00bc28b78b64697048fdae2a885.jpg\n",
      "        Permission denied\n",
      "error:  cannot delete old ./data/train/images/19981_Clip_png.rf.1e9474cecfb20ed6e9468e36f03d1608.jpg\n",
      "        Permission denied\n",
      "error:  cannot delete old ./data/train/images/20145_Clip_png.rf.674f8def9bdaa06d096ef7da388e9ce3.jpg\n",
      "        Permission denied\n",
      "error:  cannot delete old ./data/train/images/2184_Clip_png.rf.62a9d1e41c1f851ce7185fc91f3449e9.jpg\n",
      "        Permission denied\n",
      "error:  cannot delete old ./data/train/images/2467_Clip_png.rf.c8e5196114c05c7eb8241d36c9d096fc.jpg\n",
      "        Permission denied\n",
      "error:  cannot delete old ./data/train/labels/10254_Clip_png.rf.9c686cbbfe97c1a4f1a7b1bd475b9c8a.txt\n",
      "        Permission denied\n",
      "error:  cannot delete old ./data/train/labels/11437_Clip_png.rf.d5ade7fdd3b1041c557b6447390a37a2.txt\n",
      "        Permission denied\n",
      "error:  cannot delete old ./data/train/labels/11534_Clip_png.rf.e1e42883163895f1a43a4e9ac6b1d6e9.txt\n",
      "        Permission denied\n",
      "error:  cannot delete old ./data/train/labels/11653_Clip_png.rf.d414c6eff6893e43861885103ee6fa35.txt\n",
      "        Permission denied\n",
      "error:  cannot delete old ./data/train/labels/11698_Clip_png.rf.c860bc09583f09b3a24f7d1a482a22e6.txt\n",
      "        Permission denied\n",
      "error:  cannot delete old ./data/train/labels/11929_Clip_png.rf.29139fae73e5f02c4ba4b3fd46a550b3.txt\n",
      "        Permission denied\n",
      "error:  cannot delete old ./data/train/labels/12187_Clip_png.rf.72cf8870c74c5fd0208705c0319990c3.txt\n",
      "        Permission denied\n",
      "error:  cannot delete old ./data/train/labels/1258_Clip_png.rf.7e877ac216dba1d78f71e74db22734d3.txt\n",
      "        Permission denied\n",
      "error:  cannot delete old ./data/train/labels/13054_Clip_png.rf.3ac12258a84a96db25aa9548588c2d59.txt\n",
      "        Permission denied\n",
      "error:  cannot delete old ./data/train/labels/13326_Clip_png.rf.278e0718762befb793b0359c75694e75.txt\n",
      "        Permission denied\n",
      "error:  cannot delete old ./data/train/labels/13460_Clip_png.rf.c82662ec03d9430c4935bbd4bb886c68.txt\n",
      "        Permission denied\n",
      "error:  cannot delete old ./data/train/labels/13594_Clip_png.rf.9eef0da221fbdfad9cef00180ec760a9.txt\n",
      "        Permission denied\n",
      "error:  cannot delete old ./data/train/labels/13617_Clip_png.rf.141bae0b5179310e12420de419c6a4d3.txt\n",
      "        Permission denied\n",
      "error:  cannot delete old ./data/train/labels/13985_Clip_png.rf.f3eec4bcbb38cc45259941cb4a25c782.txt\n",
      "        Permission denied\n",
      "error:  cannot delete old ./data/train/labels/14030_Clip_png.rf.59f511a694190cd3e670b7b3ced8ecf7.txt\n",
      "        Permission denied\n",
      "error:  cannot delete old ./data/train/labels/14050_Clip_png.rf.e431e561d76660786ec46922c688e472.txt\n",
      "        Permission denied\n",
      "error:  cannot delete old ./data/train/labels/14398_Clip_png.rf.14f9b18e2c65d3133fddbc6f56ba212a.txt\n",
      "        Permission denied\n",
      "error:  cannot delete old ./data/train/labels/14481_Clip_png.rf.ad305f6d04c0c5d7f0801d9de59c4a2d.txt\n",
      "        Permission denied\n",
      "error:  cannot delete old ./data/train/labels/14488_Clip_png.rf.a374ead4cd23582145e3659a7836e100.txt\n",
      "        Permission denied\n",
      "error:  cannot delete old ./data/train/labels/14748_Clip_png.rf.7cb74b808ee1bbf322ffd52fd6401388.txt\n",
      "        Permission denied\n",
      "error:  cannot delete old ./data/train/labels/14871_Clip_png.rf.dd8e0103f8cd6f2a9eb682f2dc57c372.txt\n",
      "        Permission denied\n",
      "error:  cannot delete old ./data/train/labels/1487_Clip_png.rf.c402e4f5f1a128e5c364387fa90835e4.txt\n",
      "        Permission denied\n",
      "error:  cannot delete old ./data/train/labels/15051_Clip_png.rf.d3388091197f84fb582169fc6728ecf8.txt\n",
      "        Permission denied\n",
      "error:  cannot delete old ./data/train/labels/15541_Clip_png.rf.c294ef30bf33db9f5da57429bba192e9.txt\n",
      "        Permission denied\n",
      "error:  cannot delete old ./data/train/labels/15851_Clip_png.rf.9a8214263706a3c8029a9950ab1213a6.txt\n",
      "        Permission denied\n",
      "error:  cannot delete old ./data/train/labels/16041_Clip_png.rf.183772fa8ebee0ed3c83f4070fe1dcc7.txt\n",
      "        Permission denied\n",
      "error:  cannot delete old ./data/train/labels/16110_Clip_png.rf.dfcd0302baefd17a22740f8f07b4e7fc.txt\n",
      "        Permission denied\n",
      "error:  cannot delete old ./data/train/labels/16167_Clip_png.rf.9db926aab46b49b354f06a46d3c6d501.txt\n",
      "        Permission denied\n",
      "error:  cannot delete old ./data/train/labels/16263_Clip_png.rf.85ad519d86ff29ae2c6c414b3c76da43.txt\n",
      "        Permission denied\n",
      "error:  cannot delete old ./data/train/labels/16699_Clip_png.rf.9e2ece16cb84777cf2b2bc3466d6e470.txt\n",
      "        Permission denied\n",
      "error:  cannot delete old ./data/train/labels/16816_Clip_png.rf.71d2c290b42d39504b6787a1752ace85.txt\n",
      "        Permission denied\n",
      "error:  cannot delete old ./data/train/labels/17102_Clip_png.rf.ad1798809cd5b4d490086c4dae32ba37.txt\n",
      "        Permission denied\n",
      "error:  cannot delete old ./data/train/labels/17282_Clip_png.rf.149aaa4f8581ef40ffbc882916bfae37.txt\n",
      "        Permission denied\n",
      "error:  cannot delete old ./data/train/labels/17362_Clip_png.rf.76358619341471c9449a124c215636d2.txt\n",
      "        Permission denied\n",
      "error:  cannot delete old ./data/train/labels/17392_Clip_png.rf.caffb6d18318848d4b49ee0f3da42f8c.txt\n",
      "        Permission denied\n",
      "error:  cannot delete old ./data/train/labels/17622_Clip_png.rf.140fdc19c4722b716995e255229b42cb.txt\n",
      "        Permission denied\n",
      "error:  cannot delete old ./data/train/labels/18008_Clip_png.rf.e5729910cfbc5f1c9d9a485556aa6f71.txt\n",
      "        Permission denied\n",
      "error:  cannot delete old ./data/train/labels/18102_Clip_png.rf.9528534884951aa86afeb6c20e84930c.txt\n",
      "        Permission denied\n",
      "error:  cannot delete old ./data/train/labels/18238_Clip_png.rf.fc1abc28dd4f76c7446624f64b47c103.txt\n",
      "        Permission denied\n",
      "error:  cannot delete old ./data/train/labels/18627_Clip_png.rf.45f621d2005388872f539add05e3628c.txt\n",
      "        Permission denied\n",
      "error:  cannot delete old ./data/train/labels/18689_Clip_png.rf.7fd9819b894ee31d4b826c8f7fbd1f38.txt\n",
      "        Permission denied\n",
      "error:  cannot delete old ./data/train/labels/18809_Clip_png.rf.4454ec11620b31a089bcd4ad8ed921e5.txt\n",
      "        Permission denied\n",
      "error:  cannot delete old ./data/train/labels/190_Clip_png.rf.3e355cd5e6c8a9ef1dfd133de35b6636.txt\n",
      "        Permission denied\n",
      "error:  cannot delete old ./data/train/labels/19396_Clip_png.rf.5d1b7a4af266f1732825ef4cb26a33e1.txt\n",
      "        Permission denied\n",
      "error:  cannot delete old ./data/train/labels/19740_Clip_png.rf.02f1363c19144c3e70382bf489202b89.txt\n",
      "        Permission denied\n",
      "error:  cannot delete old ./data/train/labels/19798_Clip_png.rf.713ed00bc28b78b64697048fdae2a885.txt\n",
      "        Permission denied\n",
      "error:  cannot delete old ./data/train/labels/19981_Clip_png.rf.1e9474cecfb20ed6e9468e36f03d1608.txt\n",
      "        Permission denied\n",
      "error:  cannot delete old ./data/train/labels/20145_Clip_png.rf.674f8def9bdaa06d096ef7da388e9ce3.txt\n",
      "        Permission denied\n",
      "error:  cannot delete old ./data/train/labels/2184_Clip_png.rf.62a9d1e41c1f851ce7185fc91f3449e9.txt\n",
      "        Permission denied\n",
      "error:  cannot delete old ./data/train/labels/2467_Clip_png.rf.c8e5196114c05c7eb8241d36c9d096fc.txt\n",
      "        Permission denied\n",
      "error:  cannot delete old ./data/train/labels.cache\n",
      "        Permission denied\n",
      "error:  cannot delete old ./data/val/images/20489_Clip_png.rf.26def4652fc692e730d60d2bace961fd.jpg\n",
      "        Permission denied\n",
      "error:  cannot delete old ./data/val/images/20879_Clip_png.rf.f8d1fd824659c2acb4eb33ee7fc536de.jpg\n",
      "        Permission denied\n",
      "error:  cannot delete old ./data/val/images/20993_Clip_png.rf.f424f6a72d47a3730565e4d543d34a85.jpg\n",
      "        Permission denied\n",
      "error:  cannot delete old ./data/val/images/21068_Clip_png.rf.b0c39fc93856458664d7254a4aee560f.jpg\n",
      "        Permission denied\n",
      "error:  cannot delete old ./data/val/images/21623_Clip_png.rf.1a1e0ebe4a6787cc61b68d37bd787f98.jpg\n",
      "        Permission denied\n",
      "error:  cannot delete old ./data/val/images/21696_Clip_png.rf.ad0badd9fe32cb7afc535268d69fc6fa.jpg\n",
      "        Permission denied\n",
      "error:  cannot delete old ./data/val/images/21966_Clip_png.rf.d67806b61fee40ad8b7f9eee470809c3.jpg\n",
      "        Permission denied\n",
      "error:  cannot delete old ./data/val/images/22119_Clip_png.rf.18fbfde876bb2a0f0a6e99d714cbb32f.jpg\n",
      "        Permission denied\n",
      "error:  cannot delete old ./data/val/images/22409_Clip_png.rf.c7b36990d53b0eb9588c1f95d950f920.jpg\n",
      "        Permission denied\n",
      "error:  cannot delete old ./data/val/images/22775_Clip_png.rf.1fc632f5af4a0ae0a4a9496a5444f9d7.jpg\n",
      "        Permission denied\n",
      "error:  cannot delete old ./data/val/images/23300_Clip_png.rf.775cb09c860932b223051ef02816b727.jpg\n",
      "        Permission denied\n",
      "error:  cannot delete old ./data/val/images/23380_Clip_png.rf.5fcca7416485ff3f2d9fb343f36464b3.jpg\n",
      "        Permission denied\n",
      "error:  cannot delete old ./data/val/images/23407_Clip_png.rf.11da629dfb988f697cfd10a0377e2b34.jpg\n",
      "        Permission denied\n",
      "error:  cannot delete old ./data/val/images/23642_Clip_png.rf.1313ccf0f823399e87f62909dcd071db.jpg\n",
      "        Permission denied\n",
      "error:  cannot delete old ./data/val/images/23700_Clip_png.rf.0fa19501e8ffcc6510508dcfb86dde54.jpg\n",
      "        Permission denied\n",
      "error:  cannot delete old ./data/val/images/23842_Clip_png.rf.aec79d6f6f8a3b48f7e06d7a315220dc.jpg\n",
      "        Permission denied\n",
      "error:  cannot delete old ./data/val/images/25035_Clip_png.rf.6136721a5ea2daa367cc06bfaaf27acf.jpg\n",
      "        Permission denied\n",
      "error:  cannot delete old ./data/val/images/25153_Clip_png.rf.be1929ac13bb970dfbc0010dc629a69a.jpg\n",
      "        Permission denied\n",
      "error:  cannot delete old ./data/val/images/25171_Clip_png.rf.6d747d5b6233c84bf2b3c59856094ed9.jpg\n",
      "        Permission denied\n",
      "error:  cannot delete old ./data/val/images/25225_Clip_png.rf.3440103417ac085a0ca3b7235056798f.jpg\n",
      "        Permission denied\n",
      "error:  cannot delete old ./data/val/labels/20489_Clip_png.rf.26def4652fc692e730d60d2bace961fd.txt\n",
      "        Permission denied\n",
      "error:  cannot delete old ./data/val/labels/20879_Clip_png.rf.f8d1fd824659c2acb4eb33ee7fc536de.txt\n",
      "        Permission denied\n",
      "error:  cannot delete old ./data/val/labels/20993_Clip_png.rf.f424f6a72d47a3730565e4d543d34a85.txt\n",
      "        Permission denied\n",
      "error:  cannot delete old ./data/val/labels/21068_Clip_png.rf.b0c39fc93856458664d7254a4aee560f.txt\n",
      "        Permission denied\n",
      "error:  cannot delete old ./data/val/labels/21623_Clip_png.rf.1a1e0ebe4a6787cc61b68d37bd787f98.txt\n",
      "        Permission denied\n",
      "error:  cannot delete old ./data/val/labels/21696_Clip_png.rf.ad0badd9fe32cb7afc535268d69fc6fa.txt\n",
      "        Permission denied\n",
      "error:  cannot delete old ./data/val/labels/21966_Clip_png.rf.d67806b61fee40ad8b7f9eee470809c3.txt\n",
      "        Permission denied\n",
      "error:  cannot delete old ./data/val/labels/22119_Clip_png.rf.18fbfde876bb2a0f0a6e99d714cbb32f.txt\n",
      "        Permission denied\n",
      "error:  cannot delete old ./data/val/labels/22409_Clip_png.rf.c7b36990d53b0eb9588c1f95d950f920.txt\n",
      "        Permission denied\n",
      "error:  cannot delete old ./data/val/labels/22775_Clip_png.rf.1fc632f5af4a0ae0a4a9496a5444f9d7.txt\n",
      "        Permission denied\n",
      "error:  cannot delete old ./data/val/labels/23300_Clip_png.rf.775cb09c860932b223051ef02816b727.txt\n",
      "        Permission denied\n",
      "error:  cannot delete old ./data/val/labels/23380_Clip_png.rf.5fcca7416485ff3f2d9fb343f36464b3.txt\n",
      "        Permission denied\n",
      "error:  cannot delete old ./data/val/labels/23407_Clip_png.rf.11da629dfb988f697cfd10a0377e2b34.txt\n",
      "        Permission denied\n",
      "error:  cannot delete old ./data/val/labels/23642_Clip_png.rf.1313ccf0f823399e87f62909dcd071db.txt\n",
      "        Permission denied\n",
      "error:  cannot delete old ./data/val/labels/23700_Clip_png.rf.0fa19501e8ffcc6510508dcfb86dde54.txt\n",
      "        Permission denied\n",
      "error:  cannot delete old ./data/val/labels/23842_Clip_png.rf.aec79d6f6f8a3b48f7e06d7a315220dc.txt\n",
      "        Permission denied\n",
      "error:  cannot delete old ./data/val/labels/25035_Clip_png.rf.6136721a5ea2daa367cc06bfaaf27acf.txt\n",
      "        Permission denied\n",
      "error:  cannot delete old ./data/val/labels/25153_Clip_png.rf.be1929ac13bb970dfbc0010dc629a69a.txt\n",
      "        Permission denied\n",
      "error:  cannot delete old ./data/val/labels/25171_Clip_png.rf.6d747d5b6233c84bf2b3c59856094ed9.txt\n",
      "        Permission denied\n",
      "error:  cannot delete old ./data/val/labels/25225_Clip_png.rf.3440103417ac085a0ca3b7235056798f.txt\n",
      "        Permission denied\n",
      "error:  cannot delete old ./data/val/labels.cache\n",
      "        Permission denied\n",
      "error:  cannot delete old ./paalab/modelSelector.py\n",
      "        Permission denied\n",
      "error:  cannot delete old ./paalab/tuner.py\n",
      "        Permission denied\n",
      "error:  cannot delete old ./paalab/utils/convert_tif_to_png.py\n",
      "        Permission denied\n",
      "error:  cannot delete old ./paalab/utils/utils.py\n",
      "        Permission denied\n",
      "error:  cannot delete old ./paalab/utils/__pycache__/convert_tif_to_png.cpython-310.pyc\n",
      "        Permission denied\n",
      "error:  cannot delete old ./paalab/utils/__pycache__/convert_tif_to_png.cpython-39.pyc\n",
      "        Permission denied\n",
      "error:  cannot delete old ./paalab/utils/__pycache__/utils.cpython-310.pyc\n",
      "        Permission denied\n",
      "error:  cannot delete old ./paalab/utils/__pycache__/utils.cpython-39.pyc\n",
      "        Permission denied\n",
      "error:  cannot delete old ./pipeline_tif_data/test_1.tif\n",
      "        Permission denied\n",
      "error:  cannot delete old ./pipeline_tif_data/test_10.tif\n",
      "        Permission denied\n",
      "error:  cannot delete old ./pipeline_tif_data/test_11.tif\n",
      "        Permission denied\n",
      "error:  cannot delete old ./pipeline_tif_data/test_12.tif\n",
      "        Permission denied\n",
      "error:  cannot delete old ./pipeline_tif_data/test_13.tif\n",
      "        Permission denied\n",
      "error:  cannot delete old ./pipeline_tif_data/test_14.tif\n",
      "        Permission denied\n",
      "error:  cannot delete old ./pipeline_tif_data/test_15.tif\n",
      "        Permission denied\n",
      "error:  cannot delete old ./pipeline_tif_data/test_16.tif\n",
      "        Permission denied\n",
      "error:  cannot delete old ./pipeline_tif_data/test_17.tif\n",
      "        Permission denied\n",
      "error:  cannot delete old ./pipeline_tif_data/test_18.tif\n",
      "        Permission denied\n",
      "error:  cannot delete old ./pipeline_tif_data/test_19.tif\n",
      "        Permission denied\n",
      "error:  cannot delete old ./pipeline_tif_data/test_2.tif\n",
      "        Permission denied\n",
      "error:  cannot delete old ./pipeline_tif_data/test_20.tif\n",
      "        Permission denied\n",
      "error:  cannot delete old ./pipeline_tif_data/test_21.tif\n",
      "        Permission denied\n",
      "error:  cannot delete old ./pipeline_tif_data/test_22.tif\n",
      "        Permission denied\n",
      "error:  cannot delete old ./pipeline_tif_data/test_23.tif\n",
      "        Permission denied\n",
      "error:  cannot delete old ./pipeline_tif_data/test_24.tif\n",
      "        Permission denied\n",
      "error:  cannot delete old ./pipeline_tif_data/test_5.tif\n",
      "        Permission denied\n",
      "error:  cannot delete old ./pipeline_tif_data/test_6.tif\n",
      "        Permission denied\n",
      "error:  cannot delete old ./pipeline_tif_data/test_7.tif\n",
      "        Permission denied\n",
      "error:  cannot delete old ./pipeline_tif_data/test_8.tif\n",
      "        Permission denied\n",
      "error:  cannot delete old ./pipeline_tif_data/test_9.tif\n",
      "        Permission denied\n"
     ]
    }
   ],
   "source": [
    "!gdown \"https://drive.google.com/uc?id=1BwiXm1N2c9Hv2hKdbxc9eg5DzAaP_X1B\"\n",
    "!unzip -o colab_pipline.zip -d .\n",
    "!rm -rf colab_pipline.zip sample_data"
   ]
  },
  {
   "cell_type": "markdown",
   "metadata": {
    "id": "srJPY3eD2MvC"
   },
   "source": [
    "### **1.2 Checking the Runtime Environment**\n"
   ]
  },
  {
   "cell_type": "code",
   "execution_count": 3,
   "metadata": {
    "colab": {
     "base_uri": "https://localhost:8080/"
    },
    "id": "3rWzCyc82R7D",
    "outputId": "6733ee89-f48c-41ae-810e-0236672d2043"
   },
   "outputs": [
    {
     "name": "stdout",
     "output_type": "stream",
     "text": [
      "Tue Jun  3 15:42:34 2025       \n",
      "+-----------------------------------------------------------------------------------------+\n",
      "| NVIDIA-SMI 570.86.15              Driver Version: 570.86.15      CUDA Version: 12.8     |\n",
      "|-----------------------------------------+------------------------+----------------------+\n",
      "| GPU  Name                 Persistence-M | Bus-Id          Disp.A | Volatile Uncorr. ECC |\n",
      "| Fan  Temp   Perf          Pwr:Usage/Cap |           Memory-Usage | GPU-Util  Compute M. |\n",
      "|                                         |                        |               MIG M. |\n",
      "|=========================================+========================+======================|\n",
      "|   0  NVIDIA RTX A6000               Off |   00000000:AC:00.0  On |                  Off |\n",
      "| 30%   48C    P8             36W /  300W |    5215MiB /  49140MiB |      3%      Default |\n",
      "|                                         |                        |                  N/A |\n",
      "+-----------------------------------------+------------------------+----------------------+\n",
      "|   1  NVIDIA RTX A6000               Off |   00000000:CA:00.0 Off |                  Off |\n",
      "| 30%   40C    P8             22W /  300W |      19MiB /  49140MiB |      0%      Default |\n",
      "|                                         |                        |                  N/A |\n",
      "+-----------------------------------------+------------------------+----------------------+\n",
      "                                                                                         \n",
      "+-----------------------------------------------------------------------------------------+\n",
      "| Processes:                                                                              |\n",
      "|  GPU   GI   CI              PID   Type   Process name                        GPU Memory |\n",
      "|        ID   ID                                                               Usage      |\n",
      "|=========================================================================================|\n",
      "|    0   N/A  N/A            4908      G   /usr/lib/xorg/Xorg                     1440MiB |\n",
      "|    0   N/A  N/A            5084      G   /usr/bin/gnome-shell                    557MiB |\n",
      "|    0   N/A  N/A          466228      G   ...oogle/chrome/chrome --restart        136MiB |\n",
      "|    0   N/A  N/A          557708      G   /usr/bin/qgis.bin                       845MiB |\n",
      "|    0   N/A  N/A          584768      C   ...e/dhfmd/miniconda3/bin/python       1324MiB |\n",
      "|    0   N/A  N/A          601564      G   ...ersion=20250530-050023.276000        723MiB |\n",
      "|    1   N/A  N/A            4908      G   /usr/lib/xorg/Xorg                        4MiB |\n",
      "+-----------------------------------------------------------------------------------------+\n",
      "CUDA available: True\n",
      "Number of GPUs available: 2\n",
      "\n",
      "--- GPU 0 Info ---\n",
      "Name: NVIDIA RTX A6000\n",
      "Memory Allocated: 0.00 MB\n",
      "Memory Cached: 0.00 MB\n",
      "Total Memory: 48516.75 MB\n",
      "\n",
      "--- GPU 1 Info ---\n",
      "Name: NVIDIA RTX A6000\n",
      "Memory Allocated: 0.00 MB\n",
      "Memory Cached: 0.00 MB\n",
      "Total Memory: 48550.44 MB\n",
      "\n",
      "Current Device ID: 0\n",
      "Current Device Name: NVIDIA RTX A6000\n",
      "\n",
      "CUDA Version: 12.6\n",
      "cuDNN Version: 90501\n",
      "cuDNN Enabled: True\n"
     ]
    }
   ],
   "source": [
    "from paalab.utils.utils import check_cuda_status\n",
    "!nvidia-smi\n",
    "check_cuda_status()"
   ]
  },
  {
   "cell_type": "markdown",
   "metadata": {
    "id": "gOMc39rCvafC"
   },
   "source": [
    "### **1.3 Introduction To Catalog Structure**"
   ]
  },
  {
   "cell_type": "code",
   "execution_count": 4,
   "metadata": {
    "colab": {
     "base_uri": "https://localhost:8080/"
    },
    "id": "wkwaEsRztjbe",
    "outputId": "1abca946-9342-443e-8627-e0fb5114a73a"
   },
   "outputs": [
    {
     "name": "stdout",
     "output_type": "stream",
     "text": [
      "\u001b[01;34m.\u001b[0m\n",
      "├── \u001b[01;34mdata\u001b[0m\n",
      "├── main.ipynb\n",
      "├── \u001b[01;34mmodel\u001b[0m\n",
      "├── \u001b[01;34mpaalab\u001b[0m\n",
      "├── \u001b[01;34mpipeline_png_output\u001b[0m\n",
      "├── \u001b[01;34mpipeline_tif_data\u001b[0m\n",
      "├── \u001b[01;34mruns\u001b[0m\n",
      "└── \u001b[01;34mtemp\u001b[0m\n",
      "\n",
      "7 directories, 1 file\n"
     ]
    }
   ],
   "source": [
    "!tree  -L 1"
   ]
  },
  {
   "cell_type": "markdown",
   "metadata": {
    "id": "LK_-UtRpyrD_"
   },
   "source": [
    "**By Clicking The Button On The Left You Can Also Open The File Directory For Viewing And Management**\n",
    "\n",
    "![image.png](data:image/png;base64,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)"
   ]
  },
  {
   "cell_type": "markdown",
   "metadata": {
    "id": "OjYX74y9v_eJ"
   },
   "source": [
    "#### **📂 paalab**\n",
    "- **Main Code And Auxiliary Tools Directory**，includes the following files：\n",
    "- Training Code\n",
    "- Preprocessing Code\n",
    "- Prediction Code\n",
    "- Model Evaluation Code\n",
    "\n",
    "#### **📂 pipeline_tif_data**\n",
    "- **Stores The Original Tiff Image Data**。\n",
    "- Need to read the tiff image from here in the data preprocessing step and convert it to png format for deposit into the `data/train/images/` `data/val/images/` or `data/test/images/` conducting training and testing。\n",
    "- **It Is Recommended To Upload All Tiff Files To This Directory For Batch Processing**。\n",
    "\n",
    "#### **📂 data**\n",
    "- This Is **Primary Data Storage Catalog**，Use For **Training Validation And Testing**。\n",
    "- **Standard Data Format**："
   ]
  },
  {
   "cell_type": "code",
   "execution_count": 5,
   "metadata": {
    "colab": {
     "base_uri": "https://localhost:8080/"
    },
    "id": "xzqjF5jgwl3P",
    "outputId": "b1836e86-bc77-4e25-da36-d54555cd57f3"
   },
   "outputs": [
    {
     "name": "stdout",
     "output_type": "stream",
     "text": [
      "\u001b[01;34mdata\u001b[0m\n",
      "├── data_test.yaml\n",
      "├── data.yaml\n",
      "├── \u001b[01;34mtest\u001b[0m\n",
      "│   ├── \u001b[01;34mimages\u001b[0m\n",
      "│   └── \u001b[01;34mlabels\u001b[0m\n",
      "├── \u001b[01;34mtrain\u001b[0m\n",
      "│   ├── \u001b[01;34mimages\u001b[0m\n",
      "│   ├── \u001b[01;34mlabels\u001b[0m\n",
      "│   └── labels.cache\n",
      "└── \u001b[01;34mval\u001b[0m\n",
      "    ├── \u001b[01;34mimages\u001b[0m\n",
      "    ├── \u001b[01;34mlabels\u001b[0m\n",
      "    └── labels.cache\n",
      "\n",
      "9 directories, 4 files\n"
     ]
    }
   ],
   "source": [
    "!tree data -L 2"
   ]
  },
  {
   "cell_type": "markdown",
   "metadata": {
    "id": "ga9q-cf50Xqy"
   },
   "source": [
    "# **2. 📌 Tiff To Png Tool**\n",
    "- This step converts TIFF images in the `/content/pipeline_tif_data` dataset to PNG format.\n",
    "- The converted PNG image will be stored in the `/content/pipeline_png_output` directory.\n"
   ]
  },
  {
   "cell_type": "code",
   "execution_count": 6,
   "metadata": {
    "colab": {
     "base_uri": "https://localhost:8080/"
    },
    "id": "JaX6zoI91B-o",
    "outputId": "7670c0f3-7f29-4eb5-ffd8-0f3fe77721d7"
   },
   "outputs": [
    {
     "name": "stdout",
     "output_type": "stream",
     "text": [
      "Starting to process TIFF files in folder 'pipeline_tif_data'.\n",
      "Output folder 'pipeline_png_output' created or already exists.\n",
      "Band descriptions for file 'test_1.tif': (None, None, None, None)\n",
      "Detected band order as RGB.\n",
      "File 'test_1.tif' successfully converted to 'pipeline_png_output/test_1.png'.\n",
      "File 'test_10.tif' successfully converted to 'pipeline_png_output/test_10.png'.\n",
      "File 'test_11.tif' successfully converted to 'pipeline_png_output/test_11.png'.\n",
      "File 'test_12.tif' successfully converted to 'pipeline_png_output/test_12.png'.\n",
      "File 'test_13.tif' successfully converted to 'pipeline_png_output/test_13.png'.\n",
      "File 'test_14.tif' successfully converted to 'pipeline_png_output/test_14.png'.\n",
      "File 'test_15.tif' successfully converted to 'pipeline_png_output/test_15.png'.\n",
      "File 'test_16.tif' successfully converted to 'pipeline_png_output/test_16.png'.\n",
      "File 'test_17.tif' successfully converted to 'pipeline_png_output/test_17.png'.\n",
      "File 'test_18.tif' successfully converted to 'pipeline_png_output/test_18.png'.\n",
      "File 'test_19.tif' successfully converted to 'pipeline_png_output/test_19.png'.\n",
      "File 'test_2.tif' successfully converted to 'pipeline_png_output/test_2.png'.\n",
      "File 'test_20.tif' successfully converted to 'pipeline_png_output/test_20.png'.\n",
      "File 'test_21.tif' successfully converted to 'pipeline_png_output/test_21.png'.\n",
      "File 'test_22.tif' successfully converted to 'pipeline_png_output/test_22.png'.\n",
      "File 'test_23.tif' successfully converted to 'pipeline_png_output/test_23.png'.\n",
      "File 'test_24.tif' successfully converted to 'pipeline_png_output/test_24.png'.\n",
      "File 'test_5.tif' successfully converted to 'pipeline_png_output/test_5.png'.\n",
      "File 'test_6.tif' successfully converted to 'pipeline_png_output/test_6.png'.\n",
      "File 'test_7.tif' successfully converted to 'pipeline_png_output/test_7.png'.\n",
      "File 'test_8.tif' successfully converted to 'pipeline_png_output/test_8.png'.\n",
      "File 'test_9.tif' successfully converted to 'pipeline_png_output/test_9.png'.\n"
     ]
    }
   ],
   "source": [
    "from paalab.utils.convert_tif_to_png import convert_tif_to_png\n",
    "\n",
    "image_folder = 'pipeline_tif_data'\n",
    "output_folder = 'pipeline_png_output'\n",
    "convert_tif_to_png(image_folder, output_folder)"
   ]
  },
  {
   "cell_type": "markdown",
   "metadata": {
    "id": "MW-iiC6K3nhn"
   },
   "source": [
    "**Double Click On The File On The Left To View The Image**\n",
    "\n",
    "![image.png](data:image/png;base64,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)"
   ]
  },
  {
   "cell_type": "markdown",
   "metadata": {
    "id": "-g8Qs-j086uX"
   },
   "source": [
    "# **3. 🚀 Quick Demo：Experience The Full Process**\n",
    "Before using your custom data it is recommended to run through the **Demo** to understand the whole process the demo contains\n",
    "\n",
    "✅ **Automatic Conversion Tiff To Png**\n",
    "\n",
    "✅ **Example Of Annotation**\n",
    "\n",
    "✅ **Quick Training Object Detection**\n",
    "\n",
    "✅ **Predict And Export Results**\n",
    "\n",
    "✅ **Evaluate The Model**"
   ]
  },
  {
   "cell_type": "markdown",
   "metadata": {
    "id": "HNtsLDU34NI8"
   },
   "source": [
    "## **📌 3.1 Run Tiff To Png Tool**\n",
    "Run the tiff to png tool above to convert a tiff file to a png image"
   ]
  },
  {
   "cell_type": "markdown",
   "metadata": {
    "id": "zVXHTuBO9f5I"
   },
   "source": [
    "## **📌 3.2 Annotate PNG images**\n",
    "The converted PNG images need to be **Annotated**, but this Demo omits the actual annotation process, assuming that the data has already been annotated and uploaded to the `data` folder.\n"
   ]
  },
  {
   "cell_type": "markdown",
   "metadata": {
    "id": "uhDLUodd9dGc"
   },
   "source": [
    "### **3.2.1🛠️ Using Roboflow for Annotation**  \n",
    "You need to **manually annotate your data**, and you can use **Roboflow** or other annotation tools:\n",
    "\n",
    "1. **Go to [Roboflow Annotate](https://app.roboflow.com/)** and log in.  \n",
    "2. **Create a new project**:  \n",
    "   - Select **\"Object Detection\"** as the task.  \n",
    "   - Upload **the converted PNG images**.  \n",
    "3. **Start annotating**:  \n",
    "   - Use the **bounding box tool** to draw object boundaries.  \n",
    "   - **Enter the class name** (e.g., \"corn\").  \n",
    "   - **Save annotations** and repeat the process for all images.  \n",
    "4. **Export the data**:  \n",
    "   - Select **YOLO format export** (`.txt` files).  \n",
    "   - Download `labels.zip` and extract it.  \n",
    "5. **Upload to Colab**:  \n",
    "   - Upload **the annotated PNG images** and **YOLO format annotation files** to the `/content/data/train/`, `/content/data/val/`, and `/content/data/test/` directories."
   ]
  },
  {
   "cell_type": "markdown",
   "metadata": {
    "id": "ai8qI2AZ4Hsv"
   },
   "source": [
    "## **📌 3.3 Demo Object Detection Training**  \n",
    "In this Demo, we **assume that annotation is complete**, and all annotated data has been correctly stored in the `/content/data/` folder.\n",
    "\n",
    "- This Demo provides a **small set of pre-annotated data**, allowing for a quick object detection training session.  \n",
    "- The training script will:  \n",
    "  - Load the **Demo dataset**  \n",
    "  - Train the model using **preset parameters**  \n",
    "  - Run for **several epochs**  \n",
    "  - Generate **model weight files**"
   ]
  },
  {
   "cell_type": "code",
   "execution_count": 7,
   "metadata": {
    "cellView": "form",
    "colab": {
     "base_uri": "https://localhost:8080/"
    },
    "id": "VgdzUqvm6cYk",
    "outputId": "5a480135-6ef2-4146-fa70-c654556e865a"
   },
   "outputs": [
    {
     "name": "stdout",
     "output_type": "stream",
     "text": [
      "Running mode: demo, Data YAML path: data/data.yaml\n"
     ]
    }
   ],
   "source": [
    "#@title Model Hyperparameters\n",
    "#@markdown Adjust the settings in the sidebar.\n",
    "\n",
    "RUNNING_MODE = \"demo\" # @param [\"demo\"]\n",
    "DATA_YAML_PATH = \"data/data.yaml\"\n",
    "\n",
    "print(f\"Running mode: {RUNNING_MODE}, Data YAML path: {DATA_YAML_PATH}\")\n",
    "\n",
    "HYPERPARAMETER = {\n",
    "    \"lr\": [0.005],\n",
    "    \"batch\": [8],\n",
    "    \"weight_decay\": [0.0005],\n",
    "    \"dropout\": [0],\n",
    "    \"freeze_layers\": [0],\n",
    "}\n",
    "EPOCHS = 5\n",
    "\n",
    "if RUNNING_MODE == \"quick\":\n",
    "    EPOCHS = 50\n",
    "elif RUNNING_MODE == \"medium_quality\":\n",
    "    EPOCHS = 150\n",
    "elif RUNNING_MODE == \"high_quality\":\n",
    "    HYPERPARAMETER = {\n",
    "        \"lr\": [0.005, 0.01],\n",
    "        \"batch\": [8, 16],\n",
    "        \"weight_decay\": [0.0005, 0.001],\n",
    "        \"dropout\": [0, 0.2],\n",
    "        \"freeze_layers\": [0, 7, 14],\n",
    "    }\n",
    "    EPOCHS = 500\n"
   ]
  },
  {
   "cell_type": "code",
   "execution_count": 8,
   "metadata": {
    "colab": {
     "base_uri": "https://localhost:8080/"
    },
    "id": "3iE7K8RD5jSM",
    "outputId": "5549626e-7d12-4b4f-c657-1e728c3ff3dd",
    "scrolled": true
   },
   "outputs": [
    {
     "name": "stdout",
     "output_type": "stream",
     "text": [
      "Model already exists at model/model.pt\n",
      "Clearing CUDA memory...\n",
      "After clearing:\n",
      "Memory Allocated: 0.00 MB\n",
      "Memory Cached: 0.00 MB\n",
      "************Model loaded from model/model.pt***********************************\n",
      "New https://pypi.org/project/ultralytics/8.3.148 available 😃 Update with 'pip install -U ultralytics'\n",
      "\u001b[34m\u001b[1mengine/trainer: \u001b[0magnostic_nms=False, amp=True, augment=False, auto_augment=randaugment, batch=8, bgr=0.0, box=7.5, cache=False, cfg=None, classes=None, close_mosaic=10, cls=0.5, conf=None, copy_paste=0.0, copy_paste_mode=flip, cos_lr=True, cutmix=0.0, data=data/data.yaml, degrees=0.0, deterministic=True, device=None, dfl=1.5, dnn=False, dropout=0, dynamic=False, embed=None, epochs=5, erasing=0.4, exist_ok=True, fliplr=0.5, flipud=0.0, format=torchscript, fraction=1.0, freeze=0, half=False, hsv_h=0.015, hsv_s=0.7, hsv_v=0.4, imgsz=640, int8=False, iou=0.7, keras=False, kobj=1.0, line_width=None, lr0=0.005, lrf=0.005, mask_ratio=4, max_det=300, mixup=0.0, mode=train, model=model/model.pt, momentum=0.937, mosaic=1.0, multi_scale=False, name=corn30_combine_freeze_0_lr_0.005_batch_8_wd_0.0005_dropout_0, nbs=64, nms=False, opset=None, optimize=False, optimizer=auto, overlap_mask=True, patience=50, perspective=0.0, plots=True, pose=12.0, pretrained=True, profile=False, project=None, rect=False, resume=False, retina_masks=False, save=True, save_conf=False, save_crop=False, save_dir=runs/detect/corn30_combine_freeze_0_lr_0.005_batch_8_wd_0.0005_dropout_0, save_frames=False, save_json=False, save_period=-1, save_txt=False, scale=0.5, seed=0, shear=0.0, show=False, show_boxes=True, show_conf=True, show_labels=True, simplify=True, single_cls=False, source=None, split=val, stream_buffer=False, task=detect, time=None, tracker=botsort.yaml, translate=0.1, val=True, verbose=True, vid_stride=1, visualize=False, warmup_bias_lr=0.1, warmup_epochs=3.0, warmup_momentum=0.8, weight_decay=0.0005, workers=8, workspace=None\n",
      "\n",
      "Error with parameters: {'lr': 0.005, 'batch': 8, 'weight_decay': 0.0005, 'dropout': 0, 'freeze_layers': 0}\n",
      "Error message: Dataset 'data/data.yaml' error ❌ Dataset 'data/data.yaml' images not found, missing path '/content/data/val/images'\n",
      "Note dataset download directory is '/home/dhfmd/Dinglun/datasets'. You can update this in '/home/dhfmd/.config/Ultralytics/settings.json'\n",
      "\n",
      "Results saved to temp/hyperparameter_results.csv\n",
      "\n",
      "Best hyperparameter combinations for each freeze layer:\n",
      "Freeze=0: {}\n"
     ]
    }
   ],
   "source": [
    "from paalab.tuner import YOLOHyperparameterTuner\n",
    "tuner = YOLOHyperparameterTuner(data_path=DATA_YAML_PATH)\n",
    "\n",
    "# Download the model if not already present\n",
    "tuner.download_model(\"1n4tBmSAaBAa2nlYQ7eK6GSxf-9LXAYbY\")\n",
    "\n",
    "# Run hyperparameter tuning\n",
    "tuner.run(HYPERPARAMETER, epochs=EPOCHS)"
   ]
  },
  {
   "cell_type": "code",
   "execution_count": 9,
   "metadata": {
    "colab": {
     "base_uri": "https://localhost:8080/"
    },
    "id": "D0ilVyQy51zH",
    "outputId": "b66011d9-fba6-437f-a9cb-488de0b6fb48"
   },
   "outputs": [
    {
     "name": "stdout",
     "output_type": "stream",
     "text": [
      "No valid mAP50 results available for selection.\n",
      "No valid model found for validation.\n"
     ]
    }
   ],
   "source": [
    "from paalab.modelSelector import ModelSelector\n",
    "selector = ModelSelector(data_yaml=DATA_YAML_PATH)\n",
    "selector.select_best_model()\n",
    "results = selector.validate_best_model()"
   ]
  },
  {
   "cell_type": "code",
   "execution_count": 10,
   "metadata": {
    "colab": {
     "base_uri": "https://localhost:8080/"
    },
    "id": "8tnca6s27gQ0",
    "outputId": "534fd7f9-976f-4667-d213-133ac458a53f"
   },
   "outputs": [
    {
     "ename": "AttributeError",
     "evalue": "'NoneType' object has no attribute 'curves_results'",
     "output_type": "error",
     "traceback": [
      "\u001b[31m---------------------------------------------------------------------------\u001b[39m",
      "\u001b[31mAttributeError\u001b[39m                            Traceback (most recent call last)",
      "\u001b[36mCell\u001b[39m\u001b[36m \u001b[39m\u001b[32mIn[10]\u001b[39m\u001b[32m, line 2\u001b[39m\n\u001b[32m      1\u001b[39m \u001b[38;5;28;01mfrom\u001b[39;00m \u001b[34;01mpaalab\u001b[39;00m\u001b[34;01m.\u001b[39;00m\u001b[34;01mutils\u001b[39;00m\u001b[34;01m.\u001b[39;00m\u001b[34;01mutils\u001b[39;00m \u001b[38;5;28;01mimport\u001b[39;00m get_best_f1_and_threshold\n\u001b[32m----> \u001b[39m\u001b[32m2\u001b[39m best_f1, best_confidence = get_best_f1_and_threshold(\u001b[43mresults\u001b[49m\u001b[43m.\u001b[49m\u001b[43mcurves_results\u001b[49m)\n\u001b[32m      3\u001b[39m \u001b[38;5;28mprint\u001b[39m(\u001b[33mf\u001b[39m\u001b[33m\"\u001b[39m\u001b[33mBest F1 score: \u001b[39m\u001b[38;5;132;01m{\u001b[39;00mbest_f1\u001b[38;5;132;01m}\u001b[39;00m\u001b[33m, Best confidence threshold: \u001b[39m\u001b[38;5;132;01m{\u001b[39;00mbest_confidence\u001b[38;5;132;01m}\u001b[39;00m\u001b[33m\"\u001b[39m)\n",
      "\u001b[31mAttributeError\u001b[39m: 'NoneType' object has no attribute 'curves_results'"
     ]
    }
   ],
   "source": [
    "from paalab.utils.utils import get_best_f1_and_threshold\n",
    "best_f1, best_confidence = get_best_f1_and_threshold(results.curves_results)\n",
    "print(f\"Best F1 score: {best_f1}, Best confidence threshold: {best_confidence}\")"
   ]
  },
  {
   "cell_type": "markdown",
   "metadata": {
    "id": "43xOFM9u7mqv"
   },
   "source": [
    "## **📌 3.4 Demo Prediction**  \n",
    "- After training is complete, we will use the **Demo-trained model** for prediction.  \n",
    "- This step will:  \n",
    "  - Read **new PNG images**.  \n",
    "    - The images are located in `/content/pipeline_png_output`, which were converted from **TIFF to PNG** using the **TIFF to PNG conversion tool**.  \n",
    "  - Load the **trained model**.  \n",
    "  - Perform **object detection**.  \n",
    "  - Output **detection results**.  \n",
    "- The prediction results will be **saved as annotated images** in the `/content/temp/predict*` directory."
   ]
  },
  {
   "cell_type": "code",
   "execution_count": null,
   "metadata": {
    "colab": {
     "base_uri": "https://localhost:8080/"
    },
    "id": "xb4EGnmN7qDh",
    "outputId": "b3317f24-f4e5-4468-b152-7526cba50033"
   },
   "outputs": [],
   "source": [
    "from paalab.utils.utils import inference\n",
    "\n",
    "# image_path = \"/content/data/test/images/test_1_png.rf.c7d85fde6d0f922b7fac1d4a8b3c8d7e.jpg\"\n",
    "# image_path = \"pipeline_png_output\"\n",
    "image_path = \"/content/pipeline_png_output\"\n",
    "\n",
    "predictions = inference(\n",
    "    model_path=selector.best_model_path,\n",
    "    image_path=image_path,\n",
    "    conf_threshold=best_confidence,\n",
    "    iou_threshold=0.45,\n",
    ")\n"
   ]
  },
  {
   "cell_type": "markdown",
   "metadata": {
    "id": "Loq5JIkI-3DU"
   },
   "source": [
    "## **📌 3.5 Demo Results Export**\n",
    "- After running the code, the prediction results will be exported as a **CSV file** containing:"
   ]
  },
  {
   "cell_type": "markdown",
   "metadata": {
    "id": "XBr7OiHerGsT"
   },
   "source": [
    "### **3.5.1 `/content/results/predictions.csv` &rarr; Predicted Bounding Box Pixel Coordinates CSV File**"
   ]
  },
  {
   "cell_type": "code",
   "execution_count": null,
   "metadata": {
    "colab": {
     "base_uri": "https://localhost:8080/"
    },
    "id": "aEiCU8a1rGsT",
    "outputId": "767a2cdb-6235-4b03-d4d2-5400ee426509"
   },
   "outputs": [],
   "source": [
    "from paalab.utils.utils import save_predictions_to_csv\n",
    "\n",
    "csv_path = save_predictions_to_csv(predictions, output_dir=\"./results\")"
   ]
  },
  {
   "cell_type": "markdown",
   "metadata": {
    "id": "bDxIfKZMrGsT"
   },
   "source": [
    "### **3.5.2 `/content/results/geo_results/detection_results_geo.csv` → Geographic Coordinates CSV File**  \n",
    "✅ **Convert pixel coordinates (x1, y1, x2, y2) → geographic coordinates (geo_x, geo_y) from `/content/results/predictions.csv`**  \n",
    "\n",
    "✅ **Batch process all `tif` files**  \n",
    "\n",
    "✅ **Output to `/content/results/geo_results/detection_results_geo.csv`**  \n",
    "- Includes original detection box information + geographic coordinates `(geo_x, geo_y)`.  \n",
    "\n",
    "### **📌 Output Example**  \n",
    "#### **🚀 `detection_results_geo.csv`**\n",
    "| image_name | class_id | x1  | y1  | x2  | y2  | confidence | geo_x  | geo_y  |\n",
    "|------------|---------|-----|-----|-----|-----|------------|--------|--------|\n",
    "| test_1.png | 0       | 192 | 160 | 207 | 177 | 0.80       | 352.56 | 678.32 |\n",
    "| test_1.png | 0       | 16  | 87  | 41  | 105 | 0.70       | 302.12 | 655.89 |"
   ]
  },
  {
   "cell_type": "code",
   "execution_count": null,
   "metadata": {
    "colab": {
     "base_uri": "https://localhost:8080/"
    },
    "id": "gsvoMeHZrGsT",
    "outputId": "b3897994-fca7-47a7-ef70-123c17d5daf9"
   },
   "outputs": [],
   "source": [
    "from paalab.utils.utils import convert_csv_to_geo\n",
    "\n",
    "convert_csv_to_geo(csv_file=\"./results/predictions.csv\", tif_dir= \"./pipeline_tif_data\", output_dir= \"./results/geo_results\")"
   ]
  },
  {
   "cell_type": "markdown",
   "metadata": {
    "id": "_R38kaC1-mxP"
   },
   "source": [
    "### **3.5.3 Show Picture Results**\n"
   ]
  },
  {
   "cell_type": "code",
   "execution_count": null,
   "metadata": {
    "colab": {
     "base_uri": "https://localhost:8080/",
     "height": 1000
    },
    "id": "51dcofY5rGsU",
    "outputId": "777d6d7a-b266-4585-c103-502effaf1ecb"
   },
   "outputs": [],
   "source": [
    "from paalab.utils.utils import show_predictions\n",
    "\n",
    "show_predictions(predictions, output_dir=\"./results/show_predictions\", display=True)"
   ]
  },
  {
   "cell_type": "markdown",
   "metadata": {
    "id": "um1rcOnhrGsU"
   },
   "source": [
    "## **📌 3.6 🎉 Demo Experience Complete!**  \n",
    "Now you have **successfully completed the entire workflow**:  \n",
    "\n",
    "✅ **TIFF to PNG conversion**  \n",
    "✅ **Object detection training**  \n",
    "✅ **Prediction and result export**  \n",
    "\n",
    "👉 **Next, you can start using your custom dataset!** 🚀"
   ]
  },
  {
   "cell_type": "markdown",
   "metadata": {
    "id": "OwMfy7yGrGsU"
   },
   "source": [
    "# **4. 🎯 User Custom Training Guide (Colab Execution)**  \n",
    "In the Demo training, you have run a sample dataset. Now, you can **replace it with your own data** for training.  "
   ]
  },
  {
   "cell_type": "markdown",
   "metadata": {
    "id": "iIrcxhN6rGsU"
   },
   "source": [
    "## **📌 4.1 Run TIFF to PNG Conversion Tool**  \n",
    "Run the **TIFF to PNG conversion tool** from the previous step to convert your TIFF files into PNG images.  \n",
    "\n",
    "- **Replace** the contents of `/content/pipeline_tif_data` with the **TIFF files** you want to convert.  \n",
    "- The converted **PNG images** will be saved in `/content/pipeline_png_output`."
   ]
  },
  {
   "cell_type": "markdown",
   "metadata": {
    "id": "mq2eBaYNrGsU"
   },
   "source": [
    "## **📌 4.2 Annotate PNG Images**  \n",
    "The converted **PNG images** need to be **annotated** before training."
   ]
  },
  {
   "cell_type": "markdown",
   "metadata": {
    "id": "BRcmhqyfrGsU"
   },
   "source": [
    "### **🔹 4.2.1 🛠️ Using Roboflow for Annotation**  \n",
    "You need to **manually annotate your data**, using **Roboflow** or another annotation tool:  \n",
    "\n",
    "1. **Go to [Roboflow Annotate](https://app.roboflow.com/)** and log in.  \n",
    "2. **Create a new project**:  \n",
    "   - Select **\"Object Detection\"** as the task.  \n",
    "   - Upload the **converted PNG images** from `/content/pipeline_png_output`.  \n",
    "3. **Start annotating**:  \n",
    "   - Use the **bounding box tool** to draw object boundaries.  \n",
    "   - **Enter the class name** (e.g., \"corn\").  \n",
    "   - **Save annotations** and repeat for all images.  \n",
    "4. **Export the data**:  \n",
    "   - Select **YOLO format export** (`.txt` files).  \n",
    "   - Download `labels.zip` and extract it.  \n",
    "5. **Upload to Colab**:  \n",
    "   - Upload the **annotated PNG images** and **YOLO format annotation files** to `/content/data/train/`, `/content/data/val/`, and `/content/data/test/` directories, replacing the original **Demo** images and annotations."
   ]
  },
  {
   "cell_type": "markdown",
   "metadata": {
    "id": "ffIdm5MDrGsU"
   },
   "source": [
    "### **🔹 4.2.2 Upload Your Private Data**  \n",
    "\n",
    "Upload your **data.zip** file to **Colab’s left-side file manager 📁**.  \n",
    "\n",
    "Ensure that your dataset follows the required format.  \n",
    "\n",
    "Your dataset should be structured as follows:  \n",
    "```bash\n",
    "data/\n",
    "├── data_test.yaml  # Test dataset configuration file\n",
    "├── data.yaml       # Training dataset configuration file\n",
    "├── test/\n",
    "│   ├── images/     # Test images\n",
    "│   └── labels/     # Test annotation files\n",
    "├── train/\n",
    "│   ├── images/     # Training images\n",
    "│   └── labels/     # Training annotation files\n",
    "└── val/\n",
    "    ├── images/     # Validation images\n",
    "    └── labels/     # Validation annotation files\n",
    "```\n",
    "\n",
    "✅ **Important Notes**  \n",
    "\n",
    "- The **images/** folder must contain `.jpg` or `.png` files.  \n",
    "- The **labels/** folder must contain **YOLO format `.txt` annotation files**.  \n",
    "- The **`data.yaml` file must correctly point to the `train`, `val`, and `test` directories**."
   ]
  },
  {
   "cell_type": "markdown",
   "metadata": {
    "id": "kaVS1wUCrGsa"
   },
   "source": [
    "### **🔹 4.2.3 Modify `data.yaml` Configuration**  \n",
    "\n",
    "Update the `data.yaml` file to correctly reference your dataset:  \n",
    "\n",
    "```yaml\n",
    "train: /content/data/train/images  # Training data path  \n",
    "val: /content/data/val/images      # Validation data path  \n",
    "test: /content/data/test/images    # Test data path  \n",
    "\n",
    "nc: 1  # Number of classes (modify based on your dataset)  \n",
    "names: [\"class_1\"]  # Change this to your actual class names  \n",
    "```  \n",
    "\n",
    "Make sure the **paths are correctly set** and match the structure of your uploaded dataset."
   ]
  },
  {
   "cell_type": "markdown",
   "metadata": {
    "id": "zQX-SAd2rGsb"
   },
   "source": [
    "## **📌 4.3 Start Object Detection Training**  \n",
    "Now, all annotated data has been correctly stored in the `/content/data/` folder.  \n",
    "\n",
    "- The training script will:  \n",
    "  - Load the **dataset**  \n",
    "  - Train the model using **preset parameters**  \n",
    "  - Run for **multiple epochs**  \n",
    "  - Generate **model weight files**  "
   ]
  },
  {
   "cell_type": "code",
   "execution_count": null,
   "metadata": {
    "id": "hZ0RQGVArGsb"
   },
   "outputs": [],
   "source": [
    "#@title Model Hyperparameters\n",
    "#@markdown Adjust the settings in the sidebar.\n",
    "\n",
    "RUNNING_MODE = \"demo\" # @param [\"demo\",\"quick\",\"medium_quality\",\"high_quality\"]\n",
    "DATA_YAML_PATH = \"data/data.yaml\" # @param {\"type\":\"string\"}\n",
    "\n",
    "print(f\"Running mode: {RUNNING_MODE}, Data YAML path: {DATA_YAML_PATH}\")\n",
    "\n",
    "HYPERPARAMETER = {\n",
    "    \"lr\": [0.005],\n",
    "    \"batch\": [8],\n",
    "    \"weight_decay\": [0.0005],\n",
    "    \"dropout\": [0],\n",
    "    \"freeze_layers\": [0],\n",
    "}\n",
    "EPOCHS = 5\n",
    "\n",
    "if RUNNING_MODE == \"quick\":\n",
    "    EPOCHS = 50\n",
    "elif RUNNING_MODE == \"medium_quality\":\n",
    "    EPOCHS = 150\n",
    "elif RUNNING_MODE == \"high_quality\":\n",
    "    HYPERPARAMETER = {\n",
    "        \"lr\": [0.005, 0.01],\n",
    "        \"batch\": [8, 16],\n",
    "        \"weight_decay\": [0.0005, 0.001],\n",
    "        \"dropout\": [0, 0.2],\n",
    "        \"freeze_layers\": [0, 7, 14],\n",
    "    }\n",
    "    EPOCHS = 500\n"
   ]
  },
  {
   "cell_type": "code",
   "execution_count": null,
   "metadata": {
    "id": "O1_-S1_ErGsb"
   },
   "outputs": [],
   "source": [
    "from paalab.tuner import YOLOHyperparameterTuner\n",
    "tuner = YOLOHyperparameterTuner(data_path=DATA_YAML_PATH)\n",
    "\n",
    "# Download the model if not already present\n",
    "tuner.download_model(\"1n4tBmSAaBAa2nlYQ7eK6GSxf-9LXAYbY\")\n",
    "\n",
    "# Run hyperparameter tuning\n",
    "tuner.run(HYPERPARAMETER, epochs=EPOCHS)"
   ]
  },
  {
   "cell_type": "code",
   "execution_count": null,
   "metadata": {
    "id": "Vx5O8nCqrGsb"
   },
   "outputs": [],
   "source": [
    "from paalab.modelSelector import ModelSelector\n",
    "selector = ModelSelector(data_yaml=DATA_YAML_PATH)\n",
    "selector.select_best_model()\n",
    "results = selector.validate_best_model()"
   ]
  },
  {
   "cell_type": "code",
   "execution_count": null,
   "metadata": {
    "id": "W04ugGgUrGsb"
   },
   "outputs": [],
   "source": [
    "from paalab.utils.utils import get_best_f1_and_threshold\n",
    "best_f1, best_confidence = get_best_f1_and_threshold(results.curves_results)\n",
    "print(f\"Best F1 score: {best_f1}, Best confidence threshold: {best_confidence}\")"
   ]
  },
  {
   "cell_type": "markdown",
   "metadata": {
    "id": "4TadcMwMrGsb"
   },
   "source": [
    "## **📌 4.4 Prediction**  \n",
    "- After training is complete, we will use the **trained model** for prediction.  \n",
    "- This step will:  \n",
    "  - Read **new PNG images**.  \n",
    "    - The images are located in `/content/pipeline_png_output`, which were converted from **TIFF to PNG** using the **TIFF to PNG tool**.  \n",
    "  - Load the **trained model**.  \n",
    "  - Perform **object detection**.  \n",
    "  - Output **detection results**.  \n",
    "- The prediction results will be **saved as annotated images** in the `/content/temp/predict*` directory."
   ]
  },
  {
   "cell_type": "code",
   "execution_count": null,
   "metadata": {
    "id": "DX5hUzoErGsb"
   },
   "outputs": [],
   "source": [
    "from paalab.utils.utils import inference\n",
    "\n",
    "# image_path = \"/content/data/test/images/test_1_png.rf.c7d85fde6d0f922b7fac1d4a8b3c8d7e.jpg\"\n",
    "# image_path = \"pipeline_png_output\"\n",
    "image_path = \"/content/pipeline_png_output\"\n",
    "\n",
    "predictions = inference(\n",
    "    model_path=selector.best_model_path,\n",
    "    image_path=image_path,\n",
    "    conf_threshold=best_confidence,\n",
    "    iou_threshold=0.45,\n",
    ")\n"
   ]
  },
  {
   "cell_type": "markdown",
   "metadata": {
    "id": "56n0jvprrGsb"
   },
   "source": [
    "## **📌 4.5 Export Results**  \n",
    "- After running the prediction script, the results will be exported as a **CSV file**, which includes:  "
   ]
  },
  {
   "cell_type": "markdown",
   "metadata": {
    "id": "24mwewqfrGsc"
   },
   "source": [
    "### **4.5.1 `/content/results/predictions.csv` → Predicted Bounding Box Pixel Coordinates CSV File**  "
   ]
  },
  {
   "cell_type": "code",
   "execution_count": null,
   "metadata": {
    "id": "4xNSRawerGsc",
    "outputId": "780b9bc9-bf03-41a4-eaae-5b2628f3a928"
   },
   "outputs": [],
   "source": [
    "from paalab.utils.utils import save_predictions_to_csv\n",
    "\n",
    "csv_path = save_predictions_to_csv(predictions, output_dir=\"./results\")"
   ]
  },
  {
   "cell_type": "markdown",
   "metadata": {
    "id": "h4tErIE9rGsc"
   },
   "source": [
    "### **4.5.2 `/content/results/geo_results/detection_results_geo.csv` → Geographic Coordinates CSV File**  \n",
    "✅ **Convert pixel coordinates (x1, y1, x2, y2) → geographic coordinates (geo_x, geo_y) from `/content/results/predictions.csv`**  \n",
    "\n",
    "✅ **Batch process all `tif` files**  \n",
    "\n",
    "✅ **Output to `/content/results/geo_results/detection_results_geo.csv`**  \n",
    "- Includes original detection box information + geographic coordinates `(geo_x, geo_y)`.  \n",
    "\n",
    "### **📌 Output Example**  \n",
    "#### **🚀 `detection_results_geo.csv`**\n",
    "| image_name | class_id | x1  | y1  | x2  | y2  | confidence | geo_x  | geo_y  |\n",
    "|------------|---------|-----|-----|-----|-----|------------|--------|--------|\n",
    "| test_1.png | 0       | 192 | 160 | 207 | 177 | 0.80       | 352.56 | 678.32 |\n",
    "| test_1.png | 0       | 16  | 87  | 41  | 105 | 0.70       | 302.12 | 655.89 |"
   ]
  },
  {
   "cell_type": "code",
   "execution_count": null,
   "metadata": {
    "id": "_USsYShlrGsc",
    "outputId": "b10da706-64b1-42a0-afc1-c72770f0ae27"
   },
   "outputs": [],
   "source": [
    "from paalab.utils.utils import convert_csv_to_geo\n",
    "\n",
    "convert_csv_to_geo(csv_file=\"./results/predictions.csv\", tif_dir= \"./pipeline_tif_data\", output_dir= \"./results/geo_results\")"
   ]
  },
  {
   "cell_type": "markdown",
   "metadata": {
    "id": "f0AZ0cDFrGsc"
   },
   "source": [
    "### **4.5.3 Show Picture Results**\n"
   ]
  },
  {
   "cell_type": "code",
   "execution_count": null,
   "metadata": {
    "id": "lu7SVrZHrGsc"
   },
   "outputs": [],
   "source": [
    "from paalab.utils.utils import show_predictions\n",
    "\n",
    "show_predictions(predictions, output_dir=\"./results/show_predictions\", display=True)"
   ]
  },
  {
   "cell_type": "markdown",
   "metadata": {
    "id": "EVDLVBKkrGsc"
   },
   "source": [
    "## **📌 4.6 🎉 Done!**  \n",
    "You have now **completed the entire workflow**:  \n",
    "\n",
    "✅ **TIFF to PNG conversion**  \n",
    "✅ **Object detection training**  \n",
    "✅ **Prediction and result export**  \n",
    "\n",
    "🚀 **You are now ready to use this pipeline for your own dataset!** 🎯"
   ]
  }
 ],
 "metadata": {
  "accelerator": "GPU",
  "colab": {
   "collapsed_sections": [
    "TqTHHefNsJJX",
    "srJPY3eD2MvC"
   ],
   "gpuType": "T4",
   "provenance": []
  },
  "kernelspec": {
   "display_name": "Python (base)",
   "language": "python",
   "name": "base"
  },
  "language_info": {
   "codemirror_mode": {
    "name": "ipython",
    "version": 3
   },
   "file_extension": ".py",
   "mimetype": "text/x-python",
   "name": "python",
   "nbconvert_exporter": "python",
   "pygments_lexer": "ipython3",
   "version": "3.12.9"
  }
 },
 "nbformat": 4,
 "nbformat_minor": 4
}
